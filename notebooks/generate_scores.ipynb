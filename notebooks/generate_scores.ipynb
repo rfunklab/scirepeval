{
 "cells": [
  {
   "cell_type": "code",
   "execution_count": 1,
   "metadata": {},
   "outputs": [
    {
     "ename": "ModuleNotFoundError",
     "evalue": "No module named 'scirepeval'",
     "output_type": "error",
     "traceback": [
      "\u001b[0;31m---------------------------------------------------------------------------\u001b[0m",
      "\u001b[0;31mModuleNotFoundError\u001b[0m                       Traceback (most recent call last)",
      "Cell \u001b[0;32mIn[1], line 1\u001b[0m\n\u001b[0;32m----> 1\u001b[0m \u001b[38;5;28;01mfrom\u001b[39;00m \u001b[38;5;21;01mscirepeval\u001b[39;00m \u001b[38;5;28;01mimport\u001b[39;00m SciRepEval\n\u001b[1;32m      2\u001b[0m \u001b[38;5;28;01mfrom\u001b[39;00m \u001b[38;5;21;01mevaluation\u001b[39;00m\u001b[38;5;21;01m.\u001b[39;00m\u001b[38;5;21;01mencoders\u001b[39;00m \u001b[38;5;28;01mimport\u001b[39;00m Model\n\u001b[1;32m      3\u001b[0m \u001b[38;5;28;01mimport\u001b[39;00m \u001b[38;5;21;01mdatasets\u001b[39;00m\n",
      "\u001b[0;31mModuleNotFoundError\u001b[0m: No module named 'scirepeval'"
     ]
    }
   ],
   "source": [
    "from scirepeval import SciRepEval\n",
    "from evaluation.encoders import Model\n",
    "import datasets"
   ]
  },
  {
   "cell_type": "code",
   "execution_count": 2,
   "metadata": {},
   "outputs": [],
   "source": [
    "# model_checkpoint = 'allenai/scibert_scivocab_uncased'\n",
    "# model_name = 'SciBERT'\n",
    "batch_size = 64\n",
    "\n",
    "# model_checkpoint = 'allenai/specter2_base'\n",
    "# model_name = 'SPECTER'\n",
    "\n",
    "# model_checkpoint = 'malteos/scincl'\n",
    "# model_name = 'SciNCL'\n",
    "\n",
    "\n",
    "# model_name = 'Doc2Vec'\n",
    "\n",
    "\n",
    "tasks_config = f'config/{model_name}/save.jsonl'\n",
    "results_loc = f'results/{model_name}/results.jsonl'"
   ]
  },
  {
   "cell_type": "code",
   "execution_count": 3,
   "metadata": {},
   "outputs": [],
   "source": [
    "model = Model(variant=\"default\", base_checkpoint=model_checkpoint)"
   ]
  },
  {
   "cell_type": "code",
   "execution_count": 4,
   "metadata": {},
   "outputs": [],
   "source": [
    "evaluator = SciRepEval(tasks_config=tasks_config, batch_size=batch_size)"
   ]
  },
  {
   "cell_type": "code",
   "execution_count": 5,
   "metadata": {},
   "outputs": [
    {
     "name": "stderr",
     "output_type": "stream",
     "text": [
      "INFO:evaluation.eval_datasets:Loading test metadata from ('allenai/scirepeval', 'relish')\n"
     ]
    },
    {
     "name": "stderr",
     "output_type": "stream",
     "text": [
      "Downloading data: 100%|██████████| 172M/172M [00:16<00:00, 10.5MB/s] \n",
      "Generating evaluation split: 100%|██████████| 3190/3190 [00:00<00:00, 5798.05 examples/s]\n",
      "INFO:evaluation.eval_datasets:Loaded 3190 documents\n",
      "INFO:evaluation.evaluator:Generating embeddings... this might take a while\n",
      " 52%|█████▏    | 12546/24304 [13:57<13:04, 14.99it/s]\n"
     ]
    }
   ],
   "source": [
    "preds = evaluator.evaluate(model, results_loc)"
   ]
  },
  {
   "cell_type": "code",
   "execution_count": null,
   "metadata": {},
   "outputs": [],
   "source": []
  }
 ],
 "metadata": {
  "kernelspec": {
   "display_name": "scirepeval",
   "language": "python",
   "name": "python3"
  },
  "language_info": {
   "codemirror_mode": {
    "name": "ipython",
    "version": 3
   },
   "file_extension": ".py",
   "mimetype": "text/x-python",
   "name": "python",
   "nbconvert_exporter": "python",
   "pygments_lexer": "ipython3",
   "version": "3.11.8"
  }
 },
 "nbformat": 4,
 "nbformat_minor": 2
}
