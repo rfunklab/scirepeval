{
 "cells": [
  {
   "cell_type": "code",
   "execution_count": 1,
   "metadata": {},
   "outputs": [
    {
     "name": "stderr",
     "output_type": "stream",
     "text": [
      "/home/tgebhart/anaconda3/envs/scirepeval/lib/python3.8/site-packages/tqdm/auto.py:22: TqdmWarning: IProgress not found. Please update jupyter and ipywidgets. See https://ipywidgets.readthedocs.io/en/stable/user_install.html\n",
      "  from .autonotebook import tqdm as notebook_tqdm\n",
      "INFO:torch.distributed.nn.jit.instantiator:Created a temporary directory at /tmp/tmpwfktsg3p\n",
      "INFO:torch.distributed.nn.jit.instantiator:Writing /tmp/tmpwfktsg3p/_remote_module_non_scriptable.py\n",
      "INFO:pytorch_lightning.utilities.seed:Global seed set to 42\n"
     ]
    }
   ],
   "source": [
    "from scirepeval import SciRepEval\n",
    "from evaluation.encoders import Model\n",
    "import datasets"
   ]
  },
  {
   "cell_type": "code",
   "execution_count": 2,
   "metadata": {},
   "outputs": [],
   "source": [
    "model_checkpoint = 'allenai/scibert_scivocab_uncased'\n",
    "model_name = 'SciBERT'\n",
    "batch_size = 8\n",
    "\n",
    "# model_checkpoint = 'allenai/specter2_base'\n",
    "# model_name = 'SPECTER'\n",
    "\n",
    "# model_checkpoint = 'malteos/scincl'\n",
    "# model_name = 'SciNCL'\n",
    "\n",
    "\n",
    "# model_name = 'Doc2Vec'\n",
    "\n",
    "\n",
    "tasks_config = f'config/{model_name}/save.jsonl'\n",
    "results_loc = f'results/{model_name}/results.jsonl'"
   ]
  },
  {
   "cell_type": "code",
   "execution_count": 3,
   "metadata": {},
   "outputs": [],
   "source": [
    "model = Model(variant=\"default\", base_checkpoint=model_checkpoint)"
   ]
  },
  {
   "cell_type": "code",
   "execution_count": 4,
   "metadata": {},
   "outputs": [],
   "source": [
    "evaluator = SciRepEval(tasks_config=tasks_config, batch_size=batch_size)"
   ]
  },
  {
   "cell_type": "code",
   "execution_count": 5,
   "metadata": {},
   "outputs": [
    {
     "name": "stderr",
     "output_type": "stream",
     "text": [
      "INFO:evaluation.eval_datasets:Loading test metadata from ('allenai/scirepeval', 'relish')\n"
     ]
    },
    {
     "name": "stderr",
     "output_type": "stream",
     "text": [
      "Downloading data: 100%|██████████| 172M/172M [00:16<00:00, 10.5MB/s] \n",
      "Generating evaluation split: 100%|██████████| 3190/3190 [00:00<00:00, 5798.05 examples/s]\n",
      "INFO:evaluation.eval_datasets:Loaded 3190 documents\n",
      "INFO:evaluation.evaluator:Generating embeddings... this might take a while\n",
      " 52%|█████▏    | 12546/24304 [13:57<13:04, 14.99it/s]\n"
     ]
    }
   ],
   "source": [
    "preds = evaluator.evaluate(model, results_loc)"
   ]
  },
  {
   "cell_type": "code",
   "execution_count": null,
   "metadata": {},
   "outputs": [],
   "source": []
  }
 ],
 "metadata": {
  "kernelspec": {
   "display_name": "scirepeval",
   "language": "python",
   "name": "python3"
  },
  "language_info": {
   "codemirror_mode": {
    "name": "ipython",
    "version": 3
   },
   "file_extension": ".py",
   "mimetype": "text/x-python",
   "name": "python",
   "nbconvert_exporter": "python",
   "pygments_lexer": "ipython3",
   "version": "3.8.18"
  }
 },
 "nbformat": 4,
 "nbformat_minor": 2
}
